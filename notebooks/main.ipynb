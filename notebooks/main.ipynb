{
 "cells": [
  {
   "cell_type": "markdown",
   "metadata": {},
   "source": [
    "### Import libraries"
   ]
  },
  {
   "cell_type": "code",
   "execution_count": 3,
   "metadata": {},
   "outputs": [],
   "source": [
    "import pandas as pd\n",
    "import numpy as np\n",
    "import matplotlib.pyplot as plt\n",
    "import seaborn as sns\n",
    "from sklearn.model_selection import train_test_split\n",
    "from sklearn.metrics import mean_squared_error\n"
   ]
  },
  {
   "cell_type": "markdown",
   "metadata": {},
   "source": [
    "### Load data"
   ]
  },
  {
   "cell_type": "code",
   "execution_count": 13,
   "metadata": {},
   "outputs": [
    {
     "name": "stdout",
     "output_type": "stream",
     "text": [
      "(30676, 12) (13148, 11) (13148, 2)\n"
     ]
    },
    {
     "data": {
      "text/html": [
       "<div>\n",
       "<style scoped>\n",
       "    .dataframe tbody tr th:only-of-type {\n",
       "        vertical-align: middle;\n",
       "    }\n",
       "\n",
       "    .dataframe tbody tr th {\n",
       "        vertical-align: top;\n",
       "    }\n",
       "\n",
       "    .dataframe thead th {\n",
       "        text-align: right;\n",
       "    }\n",
       "</style>\n",
       "<table border=\"1\" class=\"dataframe\">\n",
       "  <thead>\n",
       "    <tr style=\"text-align: right;\">\n",
       "      <th></th>\n",
       "      <th>No</th>\n",
       "      <th>DEWP</th>\n",
       "      <th>TEMP</th>\n",
       "      <th>PRES</th>\n",
       "      <th>Iws</th>\n",
       "      <th>Is</th>\n",
       "      <th>Ir</th>\n",
       "      <th>datetime</th>\n",
       "      <th>cbwd_NW</th>\n",
       "      <th>cbwd_SE</th>\n",
       "      <th>cbwd_cv</th>\n",
       "      <th>pm2.5</th>\n",
       "    </tr>\n",
       "  </thead>\n",
       "  <tbody>\n",
       "    <tr>\n",
       "      <th>0</th>\n",
       "      <td>1</td>\n",
       "      <td>-1.580878</td>\n",
       "      <td>-1.922250</td>\n",
       "      <td>0.443328</td>\n",
       "      <td>-0.441894</td>\n",
       "      <td>-0.069353</td>\n",
       "      <td>-0.137667</td>\n",
       "      <td>2010-01-01 00:00:00</td>\n",
       "      <td>1.448138</td>\n",
       "      <td>-0.732019</td>\n",
       "      <td>-0.522096</td>\n",
       "      <td>NaN</td>\n",
       "    </tr>\n",
       "    <tr>\n",
       "      <th>1</th>\n",
       "      <td>2</td>\n",
       "      <td>-1.580878</td>\n",
       "      <td>-2.004228</td>\n",
       "      <td>0.345943</td>\n",
       "      <td>-0.379306</td>\n",
       "      <td>-0.069353</td>\n",
       "      <td>-0.137667</td>\n",
       "      <td>2010-01-01 01:00:00</td>\n",
       "      <td>1.448138</td>\n",
       "      <td>-0.732019</td>\n",
       "      <td>-0.522096</td>\n",
       "      <td>NaN</td>\n",
       "    </tr>\n",
       "    <tr>\n",
       "      <th>2</th>\n",
       "      <td>3</td>\n",
       "      <td>-1.580878</td>\n",
       "      <td>-1.922250</td>\n",
       "      <td>0.248559</td>\n",
       "      <td>-0.343514</td>\n",
       "      <td>-0.069353</td>\n",
       "      <td>-0.137667</td>\n",
       "      <td>2010-01-01 02:00:00</td>\n",
       "      <td>1.448138</td>\n",
       "      <td>-0.732019</td>\n",
       "      <td>-0.522096</td>\n",
       "      <td>NaN</td>\n",
       "    </tr>\n",
       "    <tr>\n",
       "      <th>3</th>\n",
       "      <td>4</td>\n",
       "      <td>-1.580878</td>\n",
       "      <td>-2.168183</td>\n",
       "      <td>0.248559</td>\n",
       "      <td>-0.280926</td>\n",
       "      <td>-0.069353</td>\n",
       "      <td>-0.137667</td>\n",
       "      <td>2010-01-01 03:00:00</td>\n",
       "      <td>1.448138</td>\n",
       "      <td>-0.732019</td>\n",
       "      <td>-0.522096</td>\n",
       "      <td>NaN</td>\n",
       "    </tr>\n",
       "    <tr>\n",
       "      <th>4</th>\n",
       "      <td>5</td>\n",
       "      <td>-1.511594</td>\n",
       "      <td>-2.004228</td>\n",
       "      <td>0.151174</td>\n",
       "      <td>-0.218339</td>\n",
       "      <td>-0.069353</td>\n",
       "      <td>-0.137667</td>\n",
       "      <td>2010-01-01 04:00:00</td>\n",
       "      <td>1.448138</td>\n",
       "      <td>-0.732019</td>\n",
       "      <td>-0.522096</td>\n",
       "      <td>NaN</td>\n",
       "    </tr>\n",
       "  </tbody>\n",
       "</table>\n",
       "</div>"
      ],
      "text/plain": [
       "   No      DEWP      TEMP      PRES       Iws        Is        Ir  \\\n",
       "0   1 -1.580878 -1.922250  0.443328 -0.441894 -0.069353 -0.137667   \n",
       "1   2 -1.580878 -2.004228  0.345943 -0.379306 -0.069353 -0.137667   \n",
       "2   3 -1.580878 -1.922250  0.248559 -0.343514 -0.069353 -0.137667   \n",
       "3   4 -1.580878 -2.168183  0.248559 -0.280926 -0.069353 -0.137667   \n",
       "4   5 -1.511594 -2.004228  0.151174 -0.218339 -0.069353 -0.137667   \n",
       "\n",
       "              datetime   cbwd_NW   cbwd_SE   cbwd_cv  pm2.5  \n",
       "0  2010-01-01 00:00:00  1.448138 -0.732019 -0.522096    NaN  \n",
       "1  2010-01-01 01:00:00  1.448138 -0.732019 -0.522096    NaN  \n",
       "2  2010-01-01 02:00:00  1.448138 -0.732019 -0.522096    NaN  \n",
       "3  2010-01-01 03:00:00  1.448138 -0.732019 -0.522096    NaN  \n",
       "4  2010-01-01 04:00:00  1.448138 -0.732019 -0.522096    NaN  "
      ]
     },
     "execution_count": 13,
     "metadata": {},
     "output_type": "execute_result"
    }
   ],
   "source": [
    "train = pd.read_csv(\"../data/train.csv\")\n",
    "test = pd.read_csv(\"../data/test.csv\")\n",
    "sample_submission = pd.read_csv(\"../data/sample_submission.csv\")\n",
    "\n",
    "print(train.shape, test.shape, sample_submission.shape)\n",
    "train.head()\n"
   ]
  },
  {
   "cell_type": "markdown",
   "metadata": {},
   "source": [
    "### Preprocess data"
   ]
  },
  {
   "cell_type": "code",
   "execution_count": 14,
   "metadata": {},
   "outputs": [],
   "source": [
    "# Convert datetime\n",
    "train['datetime'] = pd.to_datetime(train['datetime'])\n",
    "test['datetime'] = pd.to_datetime(test['datetime'])\n",
    "\n",
    "\n",
    "for df in [train, test]:\n",
    "    df['year'] = df['datetime'].dt.year\n",
    "    df['month'] = df['datetime'].dt.month\n",
    "    df['day'] = df['datetime'].dt.day\n",
    "    df['hour'] = df['datetime'].dt.hour\n",
    "    df['dayofweek'] = df['datetime'].dt.dayofweek\n"
   ]
  },
  {
   "cell_type": "code",
   "execution_count": 16,
   "metadata": {},
   "outputs": [
    {
     "name": "stdout",
     "output_type": "stream",
     "text": [
      "Index(['No', 'DEWP', 'TEMP', 'PRES', 'Iws', 'Is', 'Ir', 'datetime', 'cbwd_NW',\n",
      "       'cbwd_SE', 'cbwd_cv', 'pm2.5', 'year', 'month', 'day', 'hour',\n",
      "       'dayofweek'],\n",
      "      dtype='object')\n"
     ]
    }
   ],
   "source": [
    "print(train.columns)\n"
   ]
  },
  {
   "cell_type": "markdown",
   "metadata": {},
   "source": [
    "### Define features and target"
   ]
  },
  {
   "cell_type": "code",
   "execution_count": 20,
   "metadata": {},
   "outputs": [
    {
     "name": "stdout",
     "output_type": "stream",
     "text": [
      "Shapes:\n",
      "X_train: (23004, 14) X_valid: (5751, 14)\n",
      "y_train: (23004,) y_valid: (5751,)\n"
     ]
    }
   ],
   "source": [
    "from sklearn.model_selection import train_test_split\n",
    "\n",
    "train = train.dropna(subset=['pm2.5'])\n",
    "\n",
    "X = train.drop(columns=['pm2.5', 'datetime', 'No'], errors='ignore')\n",
    "y = train['pm2.5']\n",
    "\n",
    "X_train, X_valid, y_train, y_valid = train_test_split(\n",
    "    X, y, test_size=0.2, random_state=42\n",
    ")\n",
    "\n",
    "print(\"Shapes:\")\n",
    "print(\"X_train:\", X_train.shape, \"X_valid:\", X_valid.shape)\n",
    "print(\"y_train:\", y_train.shape, \"y_valid:\", y_valid.shape)\n"
   ]
  },
  {
   "cell_type": "markdown",
   "metadata": {},
   "source": [
    "### Train a Baseline Model (Linear Regression)"
   ]
  },
  {
   "cell_type": "code",
   "execution_count": 21,
   "metadata": {},
   "outputs": [
    {
     "name": "stdout",
     "output_type": "stream",
     "text": [
      "Linear Regression RMSE: 77.76808734390757\n"
     ]
    }
   ],
   "source": [
    "from sklearn.linear_model import LinearRegression\n",
    "from sklearn.metrics import mean_squared_error\n",
    "import numpy as np\n",
    "\n",
    "lr_model = LinearRegression()\n",
    "\n",
    "lr_model.fit(X_train, y_train)\n",
    "\n",
    "y_pred = lr_model.predict(X_valid)\n",
    "\n",
    "mse = mean_squared_error(y_valid, y_pred)\n",
    "rmse = np.sqrt(mse)\n",
    "\n",
    "print(\"Linear Regression RMSE:\", rmse)\n"
   ]
  },
  {
   "cell_type": "markdown",
   "metadata": {},
   "source": [
    "### Try a More Powerful Model (Random Forest)"
   ]
  },
  {
   "cell_type": "code",
   "execution_count": 22,
   "metadata": {},
   "outputs": [
    {
     "name": "stdout",
     "output_type": "stream",
     "text": [
      "Random Forest RMSE: 34.22424152503358\n"
     ]
    }
   ],
   "source": [
    "from sklearn.ensemble import RandomForestRegressor\n",
    "\n",
    "rf_model = RandomForestRegressor(\n",
    "    n_estimators=100,\n",
    "    random_state=42,\n",
    "    n_jobs=-1\n",
    ")\n",
    "\n",
    "rf_model.fit(X_train, y_train)\n",
    "\n",
    "y_pred_rf = rf_model.predict(X_valid)\n",
    "\n",
    "mse_rf = mean_squared_error(y_valid, y_pred_rf)\n",
    "rmse_rf = np.sqrt(mse_rf)\n",
    "\n",
    "print(\"Random Forest RMSE:\", rmse_rf)\n"
   ]
  },
  {
   "cell_type": "markdown",
   "metadata": {},
   "source": [
    "### Train Final Model on All Data"
   ]
  },
  {
   "cell_type": "code",
   "execution_count": 24,
   "metadata": {},
   "outputs": [
    {
     "name": "stdout",
     "output_type": "stream",
     "text": [
      "Final model trained on full dataset.\n"
     ]
    }
   ],
   "source": [
    "\n",
    "final_model = RandomForestRegressor(\n",
    "    n_estimators=200,\n",
    "    random_state=42,\n",
    "    n_jobs=-1\n",
    ")\n",
    "\n",
    "final_model.fit(X, y)\n",
    "\n",
    "print(\"Final model trained on full dataset.\")\n"
   ]
  },
  {
   "cell_type": "markdown",
   "metadata": {},
   "source": [
    "### Make Predictions on Test Set"
   ]
  },
  {
   "cell_type": "code",
   "execution_count": 25,
   "metadata": {},
   "outputs": [
    {
     "name": "stdout",
     "output_type": "stream",
     "text": [
      "Predictions ready. Shape: (13148,)\n"
     ]
    }
   ],
   "source": [
    "X_test = test.drop(columns=['datetime', 'No'], errors='ignore')\n",
    "\n",
    "\n",
    "test_predictions = final_model.predict(X_test)\n",
    "\n",
    "print(\"Predictions ready. Shape:\", test_predictions.shape)\n"
   ]
  },
  {
   "cell_type": "markdown",
   "metadata": {},
   "source": [
    "### Create Submission File"
   ]
  },
  {
   "cell_type": "code",
   "execution_count": 26,
   "metadata": {},
   "outputs": [
    {
     "name": "stdout",
     "output_type": "stream",
     "text": [
      "✅ Submission file saved as submission.csv\n"
     ]
    },
    {
     "data": {
      "text/html": [
       "<div>\n",
       "<style scoped>\n",
       "    .dataframe tbody tr th:only-of-type {\n",
       "        vertical-align: middle;\n",
       "    }\n",
       "\n",
       "    .dataframe tbody tr th {\n",
       "        vertical-align: top;\n",
       "    }\n",
       "\n",
       "    .dataframe thead th {\n",
       "        text-align: right;\n",
       "    }\n",
       "</style>\n",
       "<table border=\"1\" class=\"dataframe\">\n",
       "  <thead>\n",
       "    <tr style=\"text-align: right;\">\n",
       "      <th></th>\n",
       "      <th>row ID</th>\n",
       "      <th>pm2.5</th>\n",
       "    </tr>\n",
       "  </thead>\n",
       "  <tbody>\n",
       "    <tr>\n",
       "      <th>0</th>\n",
       "      <td>2013-07-02 4:00:00</td>\n",
       "      <td>27.550</td>\n",
       "    </tr>\n",
       "    <tr>\n",
       "      <th>1</th>\n",
       "      <td>2013-07-02 5:00:00</td>\n",
       "      <td>24.860</td>\n",
       "    </tr>\n",
       "    <tr>\n",
       "      <th>2</th>\n",
       "      <td>2013-07-02 6:00:00</td>\n",
       "      <td>22.465</td>\n",
       "    </tr>\n",
       "    <tr>\n",
       "      <th>3</th>\n",
       "      <td>2013-07-02 7:00:00</td>\n",
       "      <td>17.525</td>\n",
       "    </tr>\n",
       "    <tr>\n",
       "      <th>4</th>\n",
       "      <td>2013-07-02 8:00:00</td>\n",
       "      <td>20.510</td>\n",
       "    </tr>\n",
       "  </tbody>\n",
       "</table>\n",
       "</div>"
      ],
      "text/plain": [
       "               row ID   pm2.5\n",
       "0  2013-07-02 4:00:00  27.550\n",
       "1  2013-07-02 5:00:00  24.860\n",
       "2  2013-07-02 6:00:00  22.465\n",
       "3  2013-07-02 7:00:00  17.525\n",
       "4  2013-07-02 8:00:00  20.510"
      ]
     },
     "execution_count": 26,
     "metadata": {},
     "output_type": "execute_result"
    }
   ],
   "source": [
    "submission = sample_submission.copy()\n",
    "submission['pm2.5'] = test_predictions\n",
    "\n",
    "submission.to_csv(\"submission.csv\", index=False)\n",
    "\n",
    "print(\"✅ Submission file saved as submission.csv\")\n",
    "submission.head()\n"
   ]
  }
 ],
 "metadata": {
  "kernelspec": {
   "display_name": "venv",
   "language": "python",
   "name": "python3"
  },
  "language_info": {
   "codemirror_mode": {
    "name": "ipython",
    "version": 3
   },
   "file_extension": ".py",
   "mimetype": "text/x-python",
   "name": "python",
   "nbconvert_exporter": "python",
   "pygments_lexer": "ipython3",
   "version": "3.10.13"
  }
 },
 "nbformat": 4,
 "nbformat_minor": 2
}
